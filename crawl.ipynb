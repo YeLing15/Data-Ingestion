{
 "cells": [
  {
   "cell_type": "code",
   "execution_count": 1,
   "metadata": {},
   "outputs": [],
   "source": [
    "import requests\n",
    "import os\n",
    "from bs4 import BeautifulSoup as bs\n",
    "import pandas as pd\n",
    "from selenium import webdriver\n",
    "from selenium.webdriver.support.ui import WebDriverWait\n",
    "from selenium.webdriver.support import expected_conditions as EC\n",
    "from selenium.webdriver.common.by import By\n",
    "import pandas as pd\n",
    "from selenium.common.exceptions import TimeoutException"
   ]
  },
  {
   "cell_type": "code",
   "execution_count": 2,
   "metadata": {},
   "outputs": [],
   "source": [
    "def fetch_and_save_stats(url, filename_prefix, div_id=None, div_class=None, section_class=None):\n",
    "    driver = webdriver.Chrome()\n",
    "    try:\n",
    "        driver.get(url)\n",
    "        wait = WebDriverWait(driver, 20)\n",
    "        wait.until(EC.presence_of_element_located((By.TAG_NAME, \"body\")))\n",
    "        \n",
    "        if div_id:\n",
    "            wait.until(EC.presence_of_element_located((By.ID, div_id)))\n",
    "        elif div_class:\n",
    "            wait.until(EC.presence_of_element_located((By.CLASS_NAME, div_class)))\n",
    "        elif section_class:\n",
    "            wait.until(EC.presence_of_element_located((By.CLASS_NAME, section_class)))\n",
    "        \n",
    "        page_source = driver.page_source\n",
    "        soup = bs(page_source, 'html.parser')\n",
    "\n",
    "        target_element = None\n",
    "        if div_id:\n",
    "            target_element = soup.find('div', {'id': div_id})\n",
    "        elif div_class:\n",
    "            target_element = soup.find('div', {'class': div_class})\n",
    "        elif section_class:\n",
    "            target_element = soup.find('section', {'class': section_class})\n",
    "        else:\n",
    "            target_element = soup.body  # Nếu không có thông số, lấy toàn bộ trang\n",
    "\n",
    "        if not target_element:\n",
    "            print(\"Error: Element with specified identifier not found.\")\n",
    "            return\n",
    "\n",
    "        content = []\n",
    "        for elem in target_element.find_all(['h1', 'h2', 'h3', 'h4', 'h5', 'h6', 'p', 'a']):\n",
    "            text = elem.get_text(strip=True)\n",
    "            if elem.name == 'a' and elem.has_attr('href'):\n",
    "                text += f\" ({elem['href']})\"\n",
    "            if text:\n",
    "                content.append(text)\n",
    "\n",
    "        save_data(content, filename_prefix)\n",
    "    except Exception as e:\n",
    "        print(f\"Error occurred: {e}\")\n",
    "    finally:\n",
    "        driver.quit()\n",
    "\n",
    "def save_data(content, filename_prefix):\n",
    "    txt_filename = f\"{filename_prefix}.txt\"\n",
    "    with open(txt_filename, 'w', encoding='utf-8') as f:\n",
    "        for text in content:\n",
    "            f.write(f\"{text}\\n\")\n",
    "    print(f\"Content saved to {txt_filename}\")"
   ]
  },
  {
   "cell_type": "code",
   "execution_count": 3,
   "metadata": {},
   "outputs": [],
   "source": [
    "urls ={\n",
    "    \"tuyen_sinh_ton_duc_thang\":\n",
    "        {\n",
    "            \"url\": \"https://tuyensinh.edu.vn/dai-hoc/truong-dh-ton-duc-thang-chi-danh-25-chi-tieu-xet-diem-thi-tot-nghiep-thpt/\",\n",
    "            \"div_id\": \"content\",\n",
    "            \"div_class\": \"entry-content single-page\",\n",
    "        },\n",
    "    \"tuyen_sinh_phenikaa\":\n",
    "        {\n",
    "            \"url\": \"https://tuyensinh.edu.vn/tin-tuyen-sinh/truong-dai-hoc-phenikaa-cong-bo-5-phuong-thuc-tuyen-sinh-dai-hoc-nam-2022/\",\n",
    "            \"div_id\": \"content\",\n",
    "            \"div_class\": \"entry-content single-page\",\n",
    "        },\n",
    "}"
   ]
  },
  {
   "cell_type": "code",
   "execution_count": 4,
   "metadata": {},
   "outputs": [
    {
     "name": "stdout",
     "output_type": "stream",
     "text": [
      "Content saved to ./crawled/data_tuyen_sinh_ton_duc_thang.txt\n",
      "Content saved to ./crawled/data_tuyen_sinh_phenikaa.txt\n"
     ]
    }
   ],
   "source": [
    "if not os.path.exists('crawled'):\n",
    "    os.makedirs('crawled')\n",
    "\n",
    "# Fetch data\n",
    "for stat_type, info in urls.items():\n",
    "    fetch_and_save_stats(info['url'], f\"./crawled/data_{stat_type}\", info['div_id'], info['div_class'])"
   ]
  }
 ],
 "metadata": {
  "kernelspec": {
   "display_name": ".venv",
   "language": "python",
   "name": "python3"
  },
  "language_info": {
   "codemirror_mode": {
    "name": "ipython",
    "version": 3
   },
   "file_extension": ".py",
   "mimetype": "text/x-python",
   "name": "python",
   "nbconvert_exporter": "python",
   "pygments_lexer": "ipython3",
   "version": "3.12.5"
  }
 },
 "nbformat": 4,
 "nbformat_minor": 2
}
